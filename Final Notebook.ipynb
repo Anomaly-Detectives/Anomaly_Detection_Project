{
 "cells": [
  {
   "cell_type": "markdown",
   "metadata": {},
   "source": [
    "# Imports"
   ]
  },
  {
   "cell_type": "code",
   "execution_count": 1,
   "metadata": {},
   "outputs": [],
   "source": [
    "#tabular manipulation\n",
    "import numpy as np\n",
    "import pandas as pd\n",
    "\n",
    "#visualization\n",
    "import matplotlib.pyplot as plt\n",
    "import matplotlib.dates as mdates\n",
    "import seaborn as sns\n",
    "\n",
    "#custom modules\n",
    "import acquire\n",
    "import prepare\n",
    "from env import host, user, password\n",
    "\n",
    "#remove warnings\n",
    "import warnings\n",
    "warnings.filterwarnings(\"ignore\")"
   ]
  },
  {
   "cell_type": "markdown",
   "metadata": {},
   "source": [
    "<hr style=\"border:2px solid black\"> </hr>"
   ]
  },
  {
   "cell_type": "markdown",
   "metadata": {},
   "source": [
    "# Acquire using .txt file"
   ]
  },
  {
   "cell_type": "code",
   "execution_count": 2,
   "metadata": {},
   "outputs": [],
   "source": [
    "#custom function from acquire.py\n",
    "df_txt = acquire.get_data(\"anonymized-curriculum-access-07-2021.txt\", ['date', 'endpoint', 'user_id', 'cohort_id', 'source_ip'])"
   ]
  },
  {
   "cell_type": "code",
   "execution_count": 3,
   "metadata": {},
   "outputs": [
    {
     "data": {
      "text/html": [
       "<div>\n",
       "<style scoped>\n",
       "    .dataframe tbody tr th:only-of-type {\n",
       "        vertical-align: middle;\n",
       "    }\n",
       "\n",
       "    .dataframe tbody tr th {\n",
       "        vertical-align: top;\n",
       "    }\n",
       "\n",
       "    .dataframe thead th {\n",
       "        text-align: right;\n",
       "    }\n",
       "</style>\n",
       "<table border=\"1\" class=\"dataframe\">\n",
       "  <thead>\n",
       "    <tr style=\"text-align: right;\">\n",
       "      <th></th>\n",
       "      <th>date</th>\n",
       "      <th>endpoint</th>\n",
       "      <th>user_id</th>\n",
       "      <th>cohort_id</th>\n",
       "      <th>source_ip</th>\n",
       "    </tr>\n",
       "  </thead>\n",
       "  <tbody>\n",
       "    <tr>\n",
       "      <th>0</th>\n",
       "      <td>2018-01-26</td>\n",
       "      <td>/</td>\n",
       "      <td>1</td>\n",
       "      <td>8.0</td>\n",
       "      <td>97.105.19.61</td>\n",
       "    </tr>\n",
       "    <tr>\n",
       "      <th>1</th>\n",
       "      <td>2018-01-26</td>\n",
       "      <td>java-ii</td>\n",
       "      <td>1</td>\n",
       "      <td>8.0</td>\n",
       "      <td>97.105.19.61</td>\n",
       "    </tr>\n",
       "    <tr>\n",
       "      <th>2</th>\n",
       "      <td>2018-01-26</td>\n",
       "      <td>java-ii/object-oriented-programming</td>\n",
       "      <td>1</td>\n",
       "      <td>8.0</td>\n",
       "      <td>97.105.19.61</td>\n",
       "    </tr>\n",
       "    <tr>\n",
       "      <th>3</th>\n",
       "      <td>2018-01-26</td>\n",
       "      <td>slides/object_oriented_programming</td>\n",
       "      <td>1</td>\n",
       "      <td>8.0</td>\n",
       "      <td>97.105.19.61</td>\n",
       "    </tr>\n",
       "    <tr>\n",
       "      <th>4</th>\n",
       "      <td>2018-01-26</td>\n",
       "      <td>javascript-i/conditionals</td>\n",
       "      <td>2</td>\n",
       "      <td>22.0</td>\n",
       "      <td>97.105.19.61</td>\n",
       "    </tr>\n",
       "  </tbody>\n",
       "</table>\n",
       "</div>"
      ],
      "text/plain": [
       "         date                             endpoint  user_id  cohort_id  \\\n",
       "0  2018-01-26                                    /        1        8.0   \n",
       "1  2018-01-26                              java-ii        1        8.0   \n",
       "2  2018-01-26  java-ii/object-oriented-programming        1        8.0   \n",
       "3  2018-01-26   slides/object_oriented_programming        1        8.0   \n",
       "4  2018-01-26            javascript-i/conditionals        2       22.0   \n",
       "\n",
       "      source_ip  \n",
       "0  97.105.19.61  \n",
       "1  97.105.19.61  \n",
       "2  97.105.19.61  \n",
       "3  97.105.19.61  \n",
       "4  97.105.19.61  "
      ]
     },
     "execution_count": 3,
     "metadata": {},
     "output_type": "execute_result"
    }
   ],
   "source": [
    "#take a look at the data\n",
    "df_txt.head()"
   ]
  },
  {
   "cell_type": "code",
   "execution_count": 4,
   "metadata": {},
   "outputs": [
    {
     "name": "stdout",
     "output_type": "stream",
     "text": [
      "<class 'pandas.core.frame.DataFrame'>\n",
      "RangeIndex: 1018810 entries, 0 to 1018809\n",
      "Data columns (total 5 columns):\n",
      " #   Column     Non-Null Count    Dtype  \n",
      "---  ------     --------------    -----  \n",
      " 0   date       1018810 non-null  object \n",
      " 1   endpoint   1018809 non-null  object \n",
      " 2   user_id    1018810 non-null  int64  \n",
      " 3   cohort_id  965313 non-null   float64\n",
      " 4   source_ip  1018810 non-null  object \n",
      "dtypes: float64(1), int64(1), object(3)\n",
      "memory usage: 38.9+ MB\n"
     ]
    }
   ],
   "source": [
    "#look at size, dtypes, nulls\n",
    "df_txt.info()"
   ]
  },
  {
   "cell_type": "code",
   "execution_count": 5,
   "metadata": {},
   "outputs": [
    {
     "data": {
      "text/plain": [
       "date             0\n",
       "endpoint         1\n",
       "user_id          0\n",
       "cohort_id    53497\n",
       "source_ip        0\n",
       "dtype: int64"
      ]
     },
     "execution_count": 5,
     "metadata": {},
     "output_type": "execute_result"
    }
   ],
   "source": [
    "df_txt.isnull().sum()"
   ]
  },
  {
   "cell_type": "markdown",
   "metadata": {},
   "source": [
    "# Acquire using SQL database"
   ]
  },
  {
   "cell_type": "code",
   "execution_count": 6,
   "metadata": {},
   "outputs": [],
   "source": [
    "#custom function from acquire.py\n",
    "df2 = acquire.get_sql_data()"
   ]
  },
  {
   "cell_type": "code",
   "execution_count": 7,
   "metadata": {},
   "outputs": [
    {
     "data": {
      "text/html": [
       "<div>\n",
       "<style scoped>\n",
       "    .dataframe tbody tr th:only-of-type {\n",
       "        vertical-align: middle;\n",
       "    }\n",
       "\n",
       "    .dataframe tbody tr th {\n",
       "        vertical-align: top;\n",
       "    }\n",
       "\n",
       "    .dataframe thead th {\n",
       "        text-align: right;\n",
       "    }\n",
       "</style>\n",
       "<table border=\"1\" class=\"dataframe\">\n",
       "  <thead>\n",
       "    <tr style=\"text-align: right;\">\n",
       "      <th></th>\n",
       "      <th>date</th>\n",
       "      <th>time</th>\n",
       "      <th>path</th>\n",
       "      <th>user_id</th>\n",
       "      <th>cohort_id</th>\n",
       "      <th>ip</th>\n",
       "      <th>id</th>\n",
       "      <th>name</th>\n",
       "      <th>slack</th>\n",
       "      <th>start_date</th>\n",
       "      <th>end_date</th>\n",
       "      <th>created_at</th>\n",
       "      <th>updated_at</th>\n",
       "      <th>deleted_at</th>\n",
       "      <th>program_id</th>\n",
       "    </tr>\n",
       "  </thead>\n",
       "  <tbody>\n",
       "    <tr>\n",
       "      <th>0</th>\n",
       "      <td>2018-01-26</td>\n",
       "      <td>09:55:03</td>\n",
       "      <td>/</td>\n",
       "      <td>1</td>\n",
       "      <td>8.0</td>\n",
       "      <td>97.105.19.61</td>\n",
       "      <td>8.0</td>\n",
       "      <td>Hampton</td>\n",
       "      <td>#hampton</td>\n",
       "      <td>2015-09-22</td>\n",
       "      <td>2016-02-06</td>\n",
       "      <td>2016-06-14 19:52:26</td>\n",
       "      <td>2016-06-14 19:52:26</td>\n",
       "      <td>None</td>\n",
       "      <td>1.0</td>\n",
       "    </tr>\n",
       "    <tr>\n",
       "      <th>1</th>\n",
       "      <td>2018-01-26</td>\n",
       "      <td>09:56:02</td>\n",
       "      <td>java-ii</td>\n",
       "      <td>1</td>\n",
       "      <td>8.0</td>\n",
       "      <td>97.105.19.61</td>\n",
       "      <td>8.0</td>\n",
       "      <td>Hampton</td>\n",
       "      <td>#hampton</td>\n",
       "      <td>2015-09-22</td>\n",
       "      <td>2016-02-06</td>\n",
       "      <td>2016-06-14 19:52:26</td>\n",
       "      <td>2016-06-14 19:52:26</td>\n",
       "      <td>None</td>\n",
       "      <td>1.0</td>\n",
       "    </tr>\n",
       "    <tr>\n",
       "      <th>2</th>\n",
       "      <td>2018-01-26</td>\n",
       "      <td>09:56:05</td>\n",
       "      <td>java-ii/object-oriented-programming</td>\n",
       "      <td>1</td>\n",
       "      <td>8.0</td>\n",
       "      <td>97.105.19.61</td>\n",
       "      <td>8.0</td>\n",
       "      <td>Hampton</td>\n",
       "      <td>#hampton</td>\n",
       "      <td>2015-09-22</td>\n",
       "      <td>2016-02-06</td>\n",
       "      <td>2016-06-14 19:52:26</td>\n",
       "      <td>2016-06-14 19:52:26</td>\n",
       "      <td>None</td>\n",
       "      <td>1.0</td>\n",
       "    </tr>\n",
       "    <tr>\n",
       "      <th>3</th>\n",
       "      <td>2018-01-26</td>\n",
       "      <td>09:56:06</td>\n",
       "      <td>slides/object_oriented_programming</td>\n",
       "      <td>1</td>\n",
       "      <td>8.0</td>\n",
       "      <td>97.105.19.61</td>\n",
       "      <td>8.0</td>\n",
       "      <td>Hampton</td>\n",
       "      <td>#hampton</td>\n",
       "      <td>2015-09-22</td>\n",
       "      <td>2016-02-06</td>\n",
       "      <td>2016-06-14 19:52:26</td>\n",
       "      <td>2016-06-14 19:52:26</td>\n",
       "      <td>None</td>\n",
       "      <td>1.0</td>\n",
       "    </tr>\n",
       "    <tr>\n",
       "      <th>4</th>\n",
       "      <td>2018-01-26</td>\n",
       "      <td>09:56:24</td>\n",
       "      <td>javascript-i/conditionals</td>\n",
       "      <td>2</td>\n",
       "      <td>22.0</td>\n",
       "      <td>97.105.19.61</td>\n",
       "      <td>22.0</td>\n",
       "      <td>Teddy</td>\n",
       "      <td>#teddy</td>\n",
       "      <td>2018-01-08</td>\n",
       "      <td>2018-05-17</td>\n",
       "      <td>2018-01-08 13:59:10</td>\n",
       "      <td>2018-01-08 13:59:10</td>\n",
       "      <td>None</td>\n",
       "      <td>2.0</td>\n",
       "    </tr>\n",
       "  </tbody>\n",
       "</table>\n",
       "</div>"
      ],
      "text/plain": [
       "         date      time                                 path  user_id  \\\n",
       "0  2018-01-26  09:55:03                                    /        1   \n",
       "1  2018-01-26  09:56:02                              java-ii        1   \n",
       "2  2018-01-26  09:56:05  java-ii/object-oriented-programming        1   \n",
       "3  2018-01-26  09:56:06   slides/object_oriented_programming        1   \n",
       "4  2018-01-26  09:56:24            javascript-i/conditionals        2   \n",
       "\n",
       "   cohort_id            ip    id     name     slack  start_date    end_date  \\\n",
       "0        8.0  97.105.19.61   8.0  Hampton  #hampton  2015-09-22  2016-02-06   \n",
       "1        8.0  97.105.19.61   8.0  Hampton  #hampton  2015-09-22  2016-02-06   \n",
       "2        8.0  97.105.19.61   8.0  Hampton  #hampton  2015-09-22  2016-02-06   \n",
       "3        8.0  97.105.19.61   8.0  Hampton  #hampton  2015-09-22  2016-02-06   \n",
       "4       22.0  97.105.19.61  22.0    Teddy    #teddy  2018-01-08  2018-05-17   \n",
       "\n",
       "            created_at           updated_at deleted_at  program_id  \n",
       "0  2016-06-14 19:52:26  2016-06-14 19:52:26       None         1.0  \n",
       "1  2016-06-14 19:52:26  2016-06-14 19:52:26       None         1.0  \n",
       "2  2016-06-14 19:52:26  2016-06-14 19:52:26       None         1.0  \n",
       "3  2016-06-14 19:52:26  2016-06-14 19:52:26       None         1.0  \n",
       "4  2018-01-08 13:59:10  2018-01-08 13:59:10       None         2.0  "
      ]
     },
     "execution_count": 7,
     "metadata": {},
     "output_type": "execute_result"
    }
   ],
   "source": [
    "#take a look\n",
    "df2.head()"
   ]
  },
  {
   "cell_type": "code",
   "execution_count": 8,
   "metadata": {},
   "outputs": [
    {
     "name": "stdout",
     "output_type": "stream",
     "text": [
      "<class 'pandas.core.frame.DataFrame'>\n",
      "RangeIndex: 900223 entries, 0 to 900222\n",
      "Data columns (total 15 columns):\n",
      " #   Column      Non-Null Count   Dtype  \n",
      "---  ------      --------------   -----  \n",
      " 0   date        900223 non-null  object \n",
      " 1   time        900223 non-null  object \n",
      " 2   path        900222 non-null  object \n",
      " 3   user_id     900223 non-null  int64  \n",
      " 4   cohort_id   847330 non-null  float64\n",
      " 5   ip          900223 non-null  object \n",
      " 6   id          847330 non-null  float64\n",
      " 7   name        847330 non-null  object \n",
      " 8   slack       847330 non-null  object \n",
      " 9   start_date  847330 non-null  object \n",
      " 10  end_date    847330 non-null  object \n",
      " 11  created_at  847330 non-null  object \n",
      " 12  updated_at  847330 non-null  object \n",
      " 13  deleted_at  0 non-null       object \n",
      " 14  program_id  847330 non-null  float64\n",
      "dtypes: float64(3), int64(1), object(11)\n",
      "memory usage: 103.0+ MB\n"
     ]
    }
   ],
   "source": [
    "#look at size, nulls and dtypes\n",
    "df2.info()"
   ]
  },
  {
   "cell_type": "code",
   "execution_count": 9,
   "metadata": {},
   "outputs": [
    {
     "data": {
      "text/plain": [
       "date               0\n",
       "time               0\n",
       "path               1\n",
       "user_id            0\n",
       "cohort_id      52893\n",
       "ip                 0\n",
       "id             52893\n",
       "name           52893\n",
       "slack          52893\n",
       "start_date     52893\n",
       "end_date       52893\n",
       "created_at     52893\n",
       "updated_at     52893\n",
       "deleted_at    900223\n",
       "program_id     52893\n",
       "dtype: int64"
      ]
     },
     "execution_count": 9,
     "metadata": {},
     "output_type": "execute_result"
    }
   ],
   "source": [
    "#check the nulls for df2\n",
    "df2.isnull().sum()"
   ]
  },
  {
   "cell_type": "markdown",
   "metadata": {},
   "source": [
    "### Takeaways from Acquire:\n",
    "\n",
    "- .txt file appears to have:\n",
    "    - 6 columns\n",
    "    - object, int, float datatypes\n",
    "    - many nulls in 'cohort_id'\n",
    "    \n",
    "    <br>\n",
    "\n",
    "- SQL dataframe appears to have:\n",
    "    - 15 columns\n",
    "    - float, int, object datatypes\n",
    "    - nulls in several columns\n",
    "    - no data in 'deleted_at' column (possibly delete)\n"
   ]
  },
  {
   "cell_type": "markdown",
   "metadata": {},
   "source": [
    "<hr style=\"border:2px solid black\"> </hr>"
   ]
  },
  {
   "cell_type": "markdown",
   "metadata": {},
   "source": [
    "# Prepare"
   ]
  },
  {
   "cell_type": "code",
   "execution_count": 10,
   "metadata": {},
   "outputs": [],
   "source": [
    "#use prep function from prepare.py\n",
    "df = prepare.prep_df(df2)"
   ]
  },
  {
   "cell_type": "code",
   "execution_count": 11,
   "metadata": {},
   "outputs": [
    {
     "data": {
      "text/html": [
       "<div>\n",
       "<style scoped>\n",
       "    .dataframe tbody tr th:only-of-type {\n",
       "        vertical-align: middle;\n",
       "    }\n",
       "\n",
       "    .dataframe tbody tr th {\n",
       "        vertical-align: top;\n",
       "    }\n",
       "\n",
       "    .dataframe thead th {\n",
       "        text-align: right;\n",
       "    }\n",
       "</style>\n",
       "<table border=\"1\" class=\"dataframe\">\n",
       "  <thead>\n",
       "    <tr style=\"text-align: right;\">\n",
       "      <th></th>\n",
       "      <th>path</th>\n",
       "      <th>user_id</th>\n",
       "      <th>cohort_id</th>\n",
       "      <th>ip</th>\n",
       "      <th>name</th>\n",
       "      <th>start_date</th>\n",
       "      <th>end_date</th>\n",
       "      <th>created_at</th>\n",
       "      <th>updated_at</th>\n",
       "      <th>program_id</th>\n",
       "    </tr>\n",
       "    <tr>\n",
       "      <th>date</th>\n",
       "      <th></th>\n",
       "      <th></th>\n",
       "      <th></th>\n",
       "      <th></th>\n",
       "      <th></th>\n",
       "      <th></th>\n",
       "      <th></th>\n",
       "      <th></th>\n",
       "      <th></th>\n",
       "      <th></th>\n",
       "    </tr>\n",
       "  </thead>\n",
       "  <tbody>\n",
       "    <tr>\n",
       "      <th>2018-01-26</th>\n",
       "      <td>/</td>\n",
       "      <td>1</td>\n",
       "      <td>8</td>\n",
       "      <td>97.105.19.61</td>\n",
       "      <td>Hampton</td>\n",
       "      <td>2015-09-22</td>\n",
       "      <td>2016-02-06</td>\n",
       "      <td>2016-06-14 19:52:26</td>\n",
       "      <td>2016-06-14 19:52:26</td>\n",
       "      <td>1</td>\n",
       "    </tr>\n",
       "    <tr>\n",
       "      <th>2018-01-26</th>\n",
       "      <td>java-ii</td>\n",
       "      <td>1</td>\n",
       "      <td>8</td>\n",
       "      <td>97.105.19.61</td>\n",
       "      <td>Hampton</td>\n",
       "      <td>2015-09-22</td>\n",
       "      <td>2016-02-06</td>\n",
       "      <td>2016-06-14 19:52:26</td>\n",
       "      <td>2016-06-14 19:52:26</td>\n",
       "      <td>1</td>\n",
       "    </tr>\n",
       "    <tr>\n",
       "      <th>2018-01-26</th>\n",
       "      <td>java-ii/object-oriented-programming</td>\n",
       "      <td>1</td>\n",
       "      <td>8</td>\n",
       "      <td>97.105.19.61</td>\n",
       "      <td>Hampton</td>\n",
       "      <td>2015-09-22</td>\n",
       "      <td>2016-02-06</td>\n",
       "      <td>2016-06-14 19:52:26</td>\n",
       "      <td>2016-06-14 19:52:26</td>\n",
       "      <td>1</td>\n",
       "    </tr>\n",
       "    <tr>\n",
       "      <th>2018-01-26</th>\n",
       "      <td>slides/object_oriented_programming</td>\n",
       "      <td>1</td>\n",
       "      <td>8</td>\n",
       "      <td>97.105.19.61</td>\n",
       "      <td>Hampton</td>\n",
       "      <td>2015-09-22</td>\n",
       "      <td>2016-02-06</td>\n",
       "      <td>2016-06-14 19:52:26</td>\n",
       "      <td>2016-06-14 19:52:26</td>\n",
       "      <td>1</td>\n",
       "    </tr>\n",
       "    <tr>\n",
       "      <th>2018-01-26</th>\n",
       "      <td>javascript-i/conditionals</td>\n",
       "      <td>2</td>\n",
       "      <td>22</td>\n",
       "      <td>97.105.19.61</td>\n",
       "      <td>Teddy</td>\n",
       "      <td>2018-01-08</td>\n",
       "      <td>2018-05-17</td>\n",
       "      <td>2018-01-08 13:59:10</td>\n",
       "      <td>2018-01-08 13:59:10</td>\n",
       "      <td>2</td>\n",
       "    </tr>\n",
       "  </tbody>\n",
       "</table>\n",
       "</div>"
      ],
      "text/plain": [
       "                                           path  user_id  cohort_id  \\\n",
       "date                                                                  \n",
       "2018-01-26                                    /        1          8   \n",
       "2018-01-26                              java-ii        1          8   \n",
       "2018-01-26  java-ii/object-oriented-programming        1          8   \n",
       "2018-01-26   slides/object_oriented_programming        1          8   \n",
       "2018-01-26            javascript-i/conditionals        2         22   \n",
       "\n",
       "                      ip     name start_date   end_date          created_at  \\\n",
       "date                                                                          \n",
       "2018-01-26  97.105.19.61  Hampton 2015-09-22 2016-02-06 2016-06-14 19:52:26   \n",
       "2018-01-26  97.105.19.61  Hampton 2015-09-22 2016-02-06 2016-06-14 19:52:26   \n",
       "2018-01-26  97.105.19.61  Hampton 2015-09-22 2016-02-06 2016-06-14 19:52:26   \n",
       "2018-01-26  97.105.19.61  Hampton 2015-09-22 2016-02-06 2016-06-14 19:52:26   \n",
       "2018-01-26  97.105.19.61    Teddy 2018-01-08 2018-05-17 2018-01-08 13:59:10   \n",
       "\n",
       "                    updated_at  program_id  \n",
       "date                                        \n",
       "2018-01-26 2016-06-14 19:52:26           1  \n",
       "2018-01-26 2016-06-14 19:52:26           1  \n",
       "2018-01-26 2016-06-14 19:52:26           1  \n",
       "2018-01-26 2016-06-14 19:52:26           1  \n",
       "2018-01-26 2018-01-08 13:59:10           2  "
      ]
     },
     "execution_count": 11,
     "metadata": {},
     "output_type": "execute_result"
    }
   ],
   "source": [
    "#take a look \n",
    "df.head()"
   ]
  },
  {
   "cell_type": "code",
   "execution_count": 12,
   "metadata": {},
   "outputs": [
    {
     "data": {
      "text/plain": [
       "path          0\n",
       "user_id       0\n",
       "cohort_id     0\n",
       "ip            0\n",
       "name          0\n",
       "start_date    0\n",
       "end_date      0\n",
       "created_at    0\n",
       "updated_at    0\n",
       "program_id    0\n",
       "dtype: int64"
      ]
     },
     "execution_count": 12,
     "metadata": {},
     "output_type": "execute_result"
    }
   ],
   "source": [
    "#make sure all nulls were removed\n",
    "df.isnull().sum()"
   ]
  },
  {
   "cell_type": "code",
   "execution_count": 13,
   "metadata": {},
   "outputs": [
    {
     "name": "stdout",
     "output_type": "stream",
     "text": [
      "<class 'pandas.core.frame.DataFrame'>\n",
      "DatetimeIndex: 900223 entries, 2018-01-26 to 2021-04-21\n",
      "Data columns (total 10 columns):\n",
      " #   Column      Non-Null Count   Dtype         \n",
      "---  ------      --------------   -----         \n",
      " 0   path        900223 non-null  object        \n",
      " 1   user_id     900223 non-null  int64         \n",
      " 2   cohort_id   900223 non-null  int64         \n",
      " 3   ip          900223 non-null  object        \n",
      " 4   name        900223 non-null  object        \n",
      " 5   start_date  900223 non-null  datetime64[ns]\n",
      " 6   end_date    900223 non-null  datetime64[ns]\n",
      " 7   created_at  900223 non-null  datetime64[ns]\n",
      " 8   updated_at  900223 non-null  datetime64[ns]\n",
      " 9   program_id  900223 non-null  int64         \n",
      "dtypes: datetime64[ns](4), int64(3), object(3)\n",
      "memory usage: 75.5+ MB\n"
     ]
    }
   ],
   "source": [
    "#confirm dtypes were changed and appropiate columns were dropped\n",
    "df.info()"
   ]
  },
  {
   "cell_type": "markdown",
   "metadata": {},
   "source": [
    "### Takeaways from Prepare:\n",
    "- Final dataframe is:\n",
    "    - 10 columns\n",
    "    - object, int, and datatime datatypes"
   ]
  },
  {
   "cell_type": "markdown",
   "metadata": {},
   "source": [
    "<hr style=\"border:2px solid black\"> </hr>"
   ]
  },
  {
   "cell_type": "markdown",
   "metadata": {},
   "source": [
    "# Explore"
   ]
  },
  {
   "cell_type": "code",
   "execution_count": 14,
   "metadata": {},
   "outputs": [],
   "source": [
    "def acquire(file_name, column_names):\n",
    "    return pd.read_csv(file_name, sep=\"\\s\", header=None, names=column_names, usecols=[0, 2, 3, 4, 5])\n",
    "\n",
    "def prep(df, user):\n",
    "    df = df[df.user_id == user]\n",
    "    df.date = pd.to_datetime(df.date)\n",
    "    df = df.set_index(df.date)\n",
    "    pages = df['endpoint'].resample('d').count()\n",
    "    return pages\n",
    "\n",
    "def compute_pct_b(pages, span, weight, user):\n",
    "    midband = pages.ewm(span=span).mean()\n",
    "    stdev = pages.ewm(span=span).std()\n",
    "    ub = midband + stdev*weight\n",
    "    lb = midband - stdev*weight\n",
    "    bb = pd.concat([ub, lb], axis=1)\n",
    "    my_df = pd.concat([pages, midband, bb], axis=1)\n",
    "    my_df.columns = ['pages', 'midband', 'ub', 'lb']\n",
    "    my_df['pct_b'] = (my_df['pages'] - my_df['lb'])/(my_df['ub'] - my_df['lb'])\n",
    "    my_df['user_id'] = user\n",
    "    return my_df\n",
    "\n",
    "def find_anomalies(df, user, span, weight):\n",
    "    pages = prep(df, user)\n",
    "    my_df = compute_pct_b(pages, span, weight, user)\n",
    "    # plt_bands(my_df, user)\n",
    "    return my_df[my_df.pct_b>1]"
   ]
  },
  {
   "cell_type": "code",
   "execution_count": 15,
   "metadata": {},
   "outputs": [
    {
     "name": "stdout",
     "output_type": "stream",
     "text": [
      "<class 'pandas.core.frame.DataFrame'>\n",
      "RangeIndex: 1018810 entries, 0 to 1018809\n",
      "Data columns (total 5 columns):\n",
      " #   Column     Non-Null Count    Dtype  \n",
      "---  ------     --------------    -----  \n",
      " 0   date       1018810 non-null  object \n",
      " 1   endpoint   1018809 non-null  object \n",
      " 2   user_id    1018810 non-null  int64  \n",
      " 3   cohort_id  965313 non-null   float64\n",
      " 4   source_ip  1018810 non-null  object \n",
      "dtypes: float64(1), int64(1), object(3)\n",
      "memory usage: 38.9+ MB\n"
     ]
    }
   ],
   "source": [
    "df_txt.info()"
   ]
  },
  {
   "cell_type": "markdown",
   "metadata": {},
   "source": [
    "### Questions:\n",
    "1. Which lesson appears to attract the most traffic consistently across cohorts (per program)?\n",
    "2. Are there students who, when active, hardly access the curriculum? If so, what information do you have about these students?\n",
    "3. Is there any suspicious activity, such as users/machines/etc accessing the curriculum who shouldn’t be? Does it appear that any web-scraping is happening? Are there any suspicious IP addresses?\n",
    "4. What topics are grads continuing to reference after graduation and into their jobs (for each program)?\n",
    "5. Which lessons are least accessed?"
   ]
  },
  {
   "cell_type": "markdown",
   "metadata": {},
   "source": [
    "<hr style=\"border:1px solid black\"> </hr>"
   ]
  },
  {
   "cell_type": "markdown",
   "metadata": {},
   "source": [
    "### 1. Which lesson appears to attract the most traffic consistently across cohorts (per program)?"
   ]
  },
  {
   "cell_type": "code",
   "execution_count": 16,
   "metadata": {},
   "outputs": [
    {
     "data": {
      "text/plain": [
       "2    713365\n",
       "3    103412\n",
       "0     52893\n",
       "1     30548\n",
       "4         5\n",
       "Name: program_id, dtype: int64"
      ]
     },
     "execution_count": 16,
     "metadata": {},
     "output_type": "execute_result"
    }
   ],
   "source": [
    "# Value counts of program_id\n",
    "df.program_id.value_counts()"
   ]
  },
  {
   "cell_type": "code",
   "execution_count": 17,
   "metadata": {},
   "outputs": [
    {
     "data": {
      "text/html": [
       "<div>\n",
       "<style scoped>\n",
       "    .dataframe tbody tr th:only-of-type {\n",
       "        vertical-align: middle;\n",
       "    }\n",
       "\n",
       "    .dataframe tbody tr th {\n",
       "        vertical-align: top;\n",
       "    }\n",
       "\n",
       "    .dataframe thead th {\n",
       "        text-align: right;\n",
       "    }\n",
       "</style>\n",
       "<table border=\"1\" class=\"dataframe\">\n",
       "  <thead>\n",
       "    <tr style=\"text-align: right;\">\n",
       "      <th></th>\n",
       "      <th>path</th>\n",
       "      <th>user_id</th>\n",
       "      <th>cohort_id</th>\n",
       "      <th>ip</th>\n",
       "      <th>name</th>\n",
       "      <th>start_date</th>\n",
       "      <th>end_date</th>\n",
       "      <th>created_at</th>\n",
       "      <th>updated_at</th>\n",
       "      <th>program_id</th>\n",
       "    </tr>\n",
       "    <tr>\n",
       "      <th>date</th>\n",
       "      <th></th>\n",
       "      <th></th>\n",
       "      <th></th>\n",
       "      <th></th>\n",
       "      <th></th>\n",
       "      <th></th>\n",
       "      <th></th>\n",
       "      <th></th>\n",
       "      <th></th>\n",
       "      <th></th>\n",
       "    </tr>\n",
       "  </thead>\n",
       "  <tbody>\n",
       "    <tr>\n",
       "      <th>2018-03-22</th>\n",
       "      <td>/</td>\n",
       "      <td>152</td>\n",
       "      <td>9</td>\n",
       "      <td>207.68.209.17</td>\n",
       "      <td>Apollo</td>\n",
       "      <td>2015-03-30</td>\n",
       "      <td>2015-07-29</td>\n",
       "      <td>2016-06-14 19:52:26</td>\n",
       "      <td>2016-06-14 19:52:26</td>\n",
       "      <td>4</td>\n",
       "    </tr>\n",
       "    <tr>\n",
       "      <th>2018-03-22</th>\n",
       "      <td>content/html-css</td>\n",
       "      <td>152</td>\n",
       "      <td>9</td>\n",
       "      <td>207.68.209.17</td>\n",
       "      <td>Apollo</td>\n",
       "      <td>2015-03-30</td>\n",
       "      <td>2015-07-29</td>\n",
       "      <td>2016-06-14 19:52:26</td>\n",
       "      <td>2016-06-14 19:52:26</td>\n",
       "      <td>4</td>\n",
       "    </tr>\n",
       "    <tr>\n",
       "      <th>2018-03-22</th>\n",
       "      <td>content/html-css/gitbook/images/favicon.ico</td>\n",
       "      <td>152</td>\n",
       "      <td>9</td>\n",
       "      <td>207.68.209.17</td>\n",
       "      <td>Apollo</td>\n",
       "      <td>2015-03-30</td>\n",
       "      <td>2015-07-29</td>\n",
       "      <td>2016-06-14 19:52:26</td>\n",
       "      <td>2016-06-14 19:52:26</td>\n",
       "      <td>4</td>\n",
       "    </tr>\n",
       "    <tr>\n",
       "      <th>2018-03-22</th>\n",
       "      <td>content/html-css</td>\n",
       "      <td>152</td>\n",
       "      <td>9</td>\n",
       "      <td>207.68.209.17</td>\n",
       "      <td>Apollo</td>\n",
       "      <td>2015-03-30</td>\n",
       "      <td>2015-07-29</td>\n",
       "      <td>2016-06-14 19:52:26</td>\n",
       "      <td>2016-06-14 19:52:26</td>\n",
       "      <td>4</td>\n",
       "    </tr>\n",
       "    <tr>\n",
       "      <th>2018-03-22</th>\n",
       "      <td>content/html-css/introduction.html</td>\n",
       "      <td>152</td>\n",
       "      <td>9</td>\n",
       "      <td>207.68.209.17</td>\n",
       "      <td>Apollo</td>\n",
       "      <td>2015-03-30</td>\n",
       "      <td>2015-07-29</td>\n",
       "      <td>2016-06-14 19:52:26</td>\n",
       "      <td>2016-06-14 19:52:26</td>\n",
       "      <td>4</td>\n",
       "    </tr>\n",
       "  </tbody>\n",
       "</table>\n",
       "</div>"
      ],
      "text/plain": [
       "                                                   path  user_id  cohort_id  \\\n",
       "date                                                                          \n",
       "2018-03-22                                            /      152          9   \n",
       "2018-03-22                             content/html-css      152          9   \n",
       "2018-03-22  content/html-css/gitbook/images/favicon.ico      152          9   \n",
       "2018-03-22                             content/html-css      152          9   \n",
       "2018-03-22           content/html-css/introduction.html      152          9   \n",
       "\n",
       "                       ip    name start_date   end_date          created_at  \\\n",
       "date                                                                          \n",
       "2018-03-22  207.68.209.17  Apollo 2015-03-30 2015-07-29 2016-06-14 19:52:26   \n",
       "2018-03-22  207.68.209.17  Apollo 2015-03-30 2015-07-29 2016-06-14 19:52:26   \n",
       "2018-03-22  207.68.209.17  Apollo 2015-03-30 2015-07-29 2016-06-14 19:52:26   \n",
       "2018-03-22  207.68.209.17  Apollo 2015-03-30 2015-07-29 2016-06-14 19:52:26   \n",
       "2018-03-22  207.68.209.17  Apollo 2015-03-30 2015-07-29 2016-06-14 19:52:26   \n",
       "\n",
       "                    updated_at  program_id  \n",
       "date                                        \n",
       "2018-03-22 2016-06-14 19:52:26           4  \n",
       "2018-03-22 2016-06-14 19:52:26           4  \n",
       "2018-03-22 2016-06-14 19:52:26           4  \n",
       "2018-03-22 2016-06-14 19:52:26           4  \n",
       "2018-03-22 2016-06-14 19:52:26           4  "
      ]
     },
     "execution_count": 17,
     "metadata": {},
     "output_type": "execute_result"
    }
   ],
   "source": [
    "# Review program 4 observations\n",
    "df[df.program_id==4]"
   ]
  },
  {
   "cell_type": "markdown",
   "metadata": {},
   "source": [
    "##### Note: Program 4 only contains 5 observations, all occuring on the same day. It doesn't appear to be associated with any viable CodeUp Program so going to exclude when exploring"
   ]
  },
  {
   "cell_type": "code",
   "execution_count": 19,
   "metadata": {},
   "outputs": [
    {
     "name": "stdout",
     "output_type": "stream",
     "text": [
      "                         path\n",
      "program_id path              \n",
      "1          /             1681\n",
      "           index.html    1011\n",
      "           javascript-i   736\n",
      "           html-css       542\n",
      "           spring         501\n",
      "           java-iii       479\n",
      "           java-ii        454\n",
      "                                      path\n",
      "program_id path                           \n",
      "2          /                         35814\n",
      "           javascript-i              17457\n",
      "           toc                       17428\n",
      "           search/search_index.json  15212\n",
      "           java-iii                  12683\n",
      "           html-css                  12569\n",
      "           java-ii                   11719\n",
      "                                                     path\n",
      "program_id path                                          \n",
      "3          /                                         8358\n",
      "           search/search_index.json                  2203\n",
      "           classification/overview                   1785\n",
      "           1-fundamentals/modern-data-scientist.jpg  1655\n",
      "           1-fundamentals/AI-ML-DL-timeline.jpg      1651\n",
      "           1-fundamentals/1.1-intro-to-data-science  1633\n",
      "           classification/scale_features_or_not.svg  1590\n"
     ]
    }
   ],
   "source": [
    "# loop through all Programs grouping by program_id and pulling 7 largest path counts\n",
    "pd.set_option('display.max_rows', None)\n",
    "program_list = [1, 2, 3]\n",
    "\n",
    "for p in program_list:\n",
    "        \n",
    "        prog_df = pd.DataFrame(df).groupby('program_id')['path'].value_counts()\n",
    "        p_df = prog_df.loc[[p]]\n",
    "        p_df = pd.DataFrame(p_df.nlargest(7))\n",
    "        print(p_df)"
   ]
  },
  {
   "cell_type": "markdown",
   "metadata": {},
   "source": [
    "### Takeaways:\n",
    "- Program IDs 1 & 2 appear to be Web Development programs while Program 3 is the Data Science program\n",
    "\n",
    "<br>\n",
    "\n",
    "- Comparing across the Web Development Programs 1 & 2:\n",
    "    - javascript-i is the most accessed lesson\n",
    "        - '/' is the most visited path across all programs but is not a curriculum page and is not considered\n",
    "        - Again, index.html is the most visited path in Program 1 but is only referencing the Homepage not a curriculum page\n",
    "    - html-css & java-iii are the next most visited curriculum pages across both cohorts\n",
    "    - **NOTE**: the spring, jquery and mysql curriculum pages were also highly visited across both Programs\n",
    "\n",
    "        <br>\n",
    "        \n",
    "- Looking at the Data Science program, Program 3:\n",
    "    - classification/overview is the most visited curriculum and then followed by:\n",
    "        - 1-fundamentals/modern-data-scientist.jpg 1655\n",
    "        - 1-fundamentals/AI-ML-DL-timeline.jpg 1651\n",
    "        - 1-fundamentals/1.1-intro-to-data-science 1633\n",
    "        - classification/scale_features_or_not.svg"
   ]
  },
  {
   "cell_type": "markdown",
   "metadata": {},
   "source": [
    "<hr style=\"border:2px solid black\"> </hr>"
   ]
  },
  {
   "cell_type": "markdown",
   "metadata": {},
   "source": [
    "### #2. Are there students who, when active, hardly access the curriculum? If so, what information do you have about these students?"
   ]
  },
  {
   "cell_type": "code",
   "execution_count": 20,
   "metadata": {},
   "outputs": [],
   "source": [
    "#create a column of users that accessed curriculum while active\n",
    "df['user_access'] = (df.index < df.end_date) & (df.index > df.start_date)"
   ]
  },
  {
   "cell_type": "code",
   "execution_count": 21,
   "metadata": {},
   "outputs": [],
   "source": [
    "#turn that column into  bool\n",
    "df['user_access'] = df['user_access'].astype(int)"
   ]
  },
  {
   "cell_type": "code",
   "execution_count": 22,
   "metadata": {},
   "outputs": [
    {
     "data": {
      "text/html": [
       "<div>\n",
       "<style scoped>\n",
       "    .dataframe tbody tr th:only-of-type {\n",
       "        vertical-align: middle;\n",
       "    }\n",
       "\n",
       "    .dataframe tbody tr th {\n",
       "        vertical-align: top;\n",
       "    }\n",
       "\n",
       "    .dataframe thead th {\n",
       "        text-align: right;\n",
       "    }\n",
       "</style>\n",
       "<table border=\"1\" class=\"dataframe\">\n",
       "  <thead>\n",
       "    <tr style=\"text-align: right;\">\n",
       "      <th></th>\n",
       "      <th>path</th>\n",
       "      <th>user_id</th>\n",
       "      <th>cohort_id</th>\n",
       "      <th>ip</th>\n",
       "      <th>name</th>\n",
       "      <th>start_date</th>\n",
       "      <th>end_date</th>\n",
       "      <th>created_at</th>\n",
       "      <th>updated_at</th>\n",
       "      <th>program_id</th>\n",
       "      <th>user_access</th>\n",
       "    </tr>\n",
       "    <tr>\n",
       "      <th>date</th>\n",
       "      <th></th>\n",
       "      <th></th>\n",
       "      <th></th>\n",
       "      <th></th>\n",
       "      <th></th>\n",
       "      <th></th>\n",
       "      <th></th>\n",
       "      <th></th>\n",
       "      <th></th>\n",
       "      <th></th>\n",
       "      <th></th>\n",
       "    </tr>\n",
       "  </thead>\n",
       "  <tbody>\n",
       "    <tr>\n",
       "      <th>2018-01-26</th>\n",
       "      <td>/</td>\n",
       "      <td>1</td>\n",
       "      <td>8</td>\n",
       "      <td>97.105.19.61</td>\n",
       "      <td>Hampton</td>\n",
       "      <td>2015-09-22</td>\n",
       "      <td>2016-02-06</td>\n",
       "      <td>2016-06-14 19:52:26</td>\n",
       "      <td>2016-06-14 19:52:26</td>\n",
       "      <td>1</td>\n",
       "      <td>0</td>\n",
       "    </tr>\n",
       "    <tr>\n",
       "      <th>2018-01-26</th>\n",
       "      <td>java-ii</td>\n",
       "      <td>1</td>\n",
       "      <td>8</td>\n",
       "      <td>97.105.19.61</td>\n",
       "      <td>Hampton</td>\n",
       "      <td>2015-09-22</td>\n",
       "      <td>2016-02-06</td>\n",
       "      <td>2016-06-14 19:52:26</td>\n",
       "      <td>2016-06-14 19:52:26</td>\n",
       "      <td>1</td>\n",
       "      <td>0</td>\n",
       "    </tr>\n",
       "    <tr>\n",
       "      <th>2018-01-26</th>\n",
       "      <td>java-ii/object-oriented-programming</td>\n",
       "      <td>1</td>\n",
       "      <td>8</td>\n",
       "      <td>97.105.19.61</td>\n",
       "      <td>Hampton</td>\n",
       "      <td>2015-09-22</td>\n",
       "      <td>2016-02-06</td>\n",
       "      <td>2016-06-14 19:52:26</td>\n",
       "      <td>2016-06-14 19:52:26</td>\n",
       "      <td>1</td>\n",
       "      <td>0</td>\n",
       "    </tr>\n",
       "    <tr>\n",
       "      <th>2018-01-26</th>\n",
       "      <td>slides/object_oriented_programming</td>\n",
       "      <td>1</td>\n",
       "      <td>8</td>\n",
       "      <td>97.105.19.61</td>\n",
       "      <td>Hampton</td>\n",
       "      <td>2015-09-22</td>\n",
       "      <td>2016-02-06</td>\n",
       "      <td>2016-06-14 19:52:26</td>\n",
       "      <td>2016-06-14 19:52:26</td>\n",
       "      <td>1</td>\n",
       "      <td>0</td>\n",
       "    </tr>\n",
       "    <tr>\n",
       "      <th>2018-01-26</th>\n",
       "      <td>javascript-i/conditionals</td>\n",
       "      <td>2</td>\n",
       "      <td>22</td>\n",
       "      <td>97.105.19.61</td>\n",
       "      <td>Teddy</td>\n",
       "      <td>2018-01-08</td>\n",
       "      <td>2018-05-17</td>\n",
       "      <td>2018-01-08 13:59:10</td>\n",
       "      <td>2018-01-08 13:59:10</td>\n",
       "      <td>2</td>\n",
       "      <td>1</td>\n",
       "    </tr>\n",
       "  </tbody>\n",
       "</table>\n",
       "</div>"
      ],
      "text/plain": [
       "                                           path  user_id  cohort_id  \\\n",
       "date                                                                  \n",
       "2018-01-26                                    /        1          8   \n",
       "2018-01-26                              java-ii        1          8   \n",
       "2018-01-26  java-ii/object-oriented-programming        1          8   \n",
       "2018-01-26   slides/object_oriented_programming        1          8   \n",
       "2018-01-26            javascript-i/conditionals        2         22   \n",
       "\n",
       "                      ip     name start_date   end_date          created_at  \\\n",
       "date                                                                          \n",
       "2018-01-26  97.105.19.61  Hampton 2015-09-22 2016-02-06 2016-06-14 19:52:26   \n",
       "2018-01-26  97.105.19.61  Hampton 2015-09-22 2016-02-06 2016-06-14 19:52:26   \n",
       "2018-01-26  97.105.19.61  Hampton 2015-09-22 2016-02-06 2016-06-14 19:52:26   \n",
       "2018-01-26  97.105.19.61  Hampton 2015-09-22 2016-02-06 2016-06-14 19:52:26   \n",
       "2018-01-26  97.105.19.61    Teddy 2018-01-08 2018-05-17 2018-01-08 13:59:10   \n",
       "\n",
       "                    updated_at  program_id  user_access  \n",
       "date                                                     \n",
       "2018-01-26 2016-06-14 19:52:26           1            0  \n",
       "2018-01-26 2016-06-14 19:52:26           1            0  \n",
       "2018-01-26 2016-06-14 19:52:26           1            0  \n",
       "2018-01-26 2016-06-14 19:52:26           1            0  \n",
       "2018-01-26 2018-01-08 13:59:10           2            1  "
      ]
     },
     "execution_count": 22,
     "metadata": {},
     "output_type": "execute_result"
    }
   ],
   "source": [
    "df.head()"
   ]
  },
  {
   "cell_type": "code",
   "execution_count": 23,
   "metadata": {},
   "outputs": [],
   "source": [
    "#call only users who accessed curriculum while active\n",
    "user_access_df = df.loc[df['user_access'] == 1]"
   ]
  },
  {
   "cell_type": "code",
   "execution_count": 24,
   "metadata": {},
   "outputs": [],
   "source": [
    "#turn that into a DF\n",
    "user_df = pd.DataFrame(user_access_df).groupby('user_id')['path'].value_counts()"
   ]
  },
  {
   "cell_type": "code",
   "execution_count": 25,
   "metadata": {},
   "outputs": [
    {
     "data": {
      "text/plain": [
       "user_id  path    \n",
       "2        /           68\n",
       "         java-iii    50\n",
       "         mysql       32\n",
       "         java-ii     30\n",
       "         spring      29\n",
       "Name: path, dtype: int64"
      ]
     },
     "execution_count": 25,
     "metadata": {},
     "output_type": "execute_result"
    }
   ],
   "source": [
    "user_df.head()"
   ]
  },
  {
   "cell_type": "code",
   "execution_count": 26,
   "metadata": {},
   "outputs": [],
   "source": [
    "#identify unique users in a list\n",
    "user_list = df.user_id.unique().tolist()"
   ]
  },
  {
   "cell_type": "code",
   "execution_count": 27,
   "metadata": {},
   "outputs": [],
   "source": [
    "#set variable to active users sorted by user id\n",
    "least_accessed = user_access_df.sort_values('user_id')"
   ]
  },
  {
   "cell_type": "code",
   "execution_count": 28,
   "metadata": {},
   "outputs": [
    {
     "data": {
      "text/html": [
       "<div>\n",
       "<style scoped>\n",
       "    .dataframe tbody tr th:only-of-type {\n",
       "        vertical-align: middle;\n",
       "    }\n",
       "\n",
       "    .dataframe tbody tr th {\n",
       "        vertical-align: top;\n",
       "    }\n",
       "\n",
       "    .dataframe thead th {\n",
       "        text-align: right;\n",
       "    }\n",
       "</style>\n",
       "<table border=\"1\" class=\"dataframe\">\n",
       "  <thead>\n",
       "    <tr style=\"text-align: right;\">\n",
       "      <th></th>\n",
       "      <th>path</th>\n",
       "      <th>user_id</th>\n",
       "      <th>cohort_id</th>\n",
       "      <th>ip</th>\n",
       "      <th>name</th>\n",
       "      <th>start_date</th>\n",
       "      <th>end_date</th>\n",
       "      <th>created_at</th>\n",
       "      <th>updated_at</th>\n",
       "      <th>program_id</th>\n",
       "      <th>user_access</th>\n",
       "    </tr>\n",
       "    <tr>\n",
       "      <th>date</th>\n",
       "      <th></th>\n",
       "      <th></th>\n",
       "      <th></th>\n",
       "      <th></th>\n",
       "      <th></th>\n",
       "      <th></th>\n",
       "      <th></th>\n",
       "      <th></th>\n",
       "      <th></th>\n",
       "      <th></th>\n",
       "      <th></th>\n",
       "    </tr>\n",
       "  </thead>\n",
       "  <tbody>\n",
       "    <tr>\n",
       "      <th>2018-01-26</th>\n",
       "      <td>javascript-i/conditionals</td>\n",
       "      <td>2</td>\n",
       "      <td>22</td>\n",
       "      <td>97.105.19.61</td>\n",
       "      <td>Teddy</td>\n",
       "      <td>2018-01-08</td>\n",
       "      <td>2018-05-17</td>\n",
       "      <td>2018-01-08 13:59:10</td>\n",
       "      <td>2018-01-08 13:59:10</td>\n",
       "      <td>2</td>\n",
       "      <td>1</td>\n",
       "    </tr>\n",
       "    <tr>\n",
       "      <th>2018-03-14</th>\n",
       "      <td>java-i/strings</td>\n",
       "      <td>2</td>\n",
       "      <td>22</td>\n",
       "      <td>97.105.19.61</td>\n",
       "      <td>Teddy</td>\n",
       "      <td>2018-01-08</td>\n",
       "      <td>2018-05-17</td>\n",
       "      <td>2018-01-08 13:59:10</td>\n",
       "      <td>2018-01-08 13:59:10</td>\n",
       "      <td>2</td>\n",
       "      <td>1</td>\n",
       "    </tr>\n",
       "    <tr>\n",
       "      <th>2018-04-20</th>\n",
       "      <td>spring/fundamentals/relationships</td>\n",
       "      <td>2</td>\n",
       "      <td>22</td>\n",
       "      <td>97.105.19.61</td>\n",
       "      <td>Teddy</td>\n",
       "      <td>2018-01-08</td>\n",
       "      <td>2018-05-17</td>\n",
       "      <td>2018-01-08 13:59:10</td>\n",
       "      <td>2018-01-08 13:59:10</td>\n",
       "      <td>2</td>\n",
       "      <td>1</td>\n",
       "    </tr>\n",
       "    <tr>\n",
       "      <th>2018-03-14</th>\n",
       "      <td>java-i/methods</td>\n",
       "      <td>2</td>\n",
       "      <td>22</td>\n",
       "      <td>97.105.19.61</td>\n",
       "      <td>Teddy</td>\n",
       "      <td>2018-01-08</td>\n",
       "      <td>2018-05-17</td>\n",
       "      <td>2018-01-08 13:59:10</td>\n",
       "      <td>2018-01-08 13:59:10</td>\n",
       "      <td>2</td>\n",
       "      <td>1</td>\n",
       "    </tr>\n",
       "    <tr>\n",
       "      <th>2018-03-14</th>\n",
       "      <td>java-i</td>\n",
       "      <td>2</td>\n",
       "      <td>22</td>\n",
       "      <td>97.105.19.61</td>\n",
       "      <td>Teddy</td>\n",
       "      <td>2018-01-08</td>\n",
       "      <td>2018-05-17</td>\n",
       "      <td>2018-01-08 13:59:10</td>\n",
       "      <td>2018-01-08 13:59:10</td>\n",
       "      <td>2</td>\n",
       "      <td>1</td>\n",
       "    </tr>\n",
       "  </tbody>\n",
       "</table>\n",
       "</div>"
      ],
      "text/plain": [
       "                                         path  user_id  cohort_id  \\\n",
       "date                                                                \n",
       "2018-01-26          javascript-i/conditionals        2         22   \n",
       "2018-03-14                     java-i/strings        2         22   \n",
       "2018-04-20  spring/fundamentals/relationships        2         22   \n",
       "2018-03-14                     java-i/methods        2         22   \n",
       "2018-03-14                             java-i        2         22   \n",
       "\n",
       "                      ip   name start_date   end_date          created_at  \\\n",
       "date                                                                        \n",
       "2018-01-26  97.105.19.61  Teddy 2018-01-08 2018-05-17 2018-01-08 13:59:10   \n",
       "2018-03-14  97.105.19.61  Teddy 2018-01-08 2018-05-17 2018-01-08 13:59:10   \n",
       "2018-04-20  97.105.19.61  Teddy 2018-01-08 2018-05-17 2018-01-08 13:59:10   \n",
       "2018-03-14  97.105.19.61  Teddy 2018-01-08 2018-05-17 2018-01-08 13:59:10   \n",
       "2018-03-14  97.105.19.61  Teddy 2018-01-08 2018-05-17 2018-01-08 13:59:10   \n",
       "\n",
       "                    updated_at  program_id  user_access  \n",
       "date                                                     \n",
       "2018-01-26 2018-01-08 13:59:10           2            1  \n",
       "2018-03-14 2018-01-08 13:59:10           2            1  \n",
       "2018-04-20 2018-01-08 13:59:10           2            1  \n",
       "2018-03-14 2018-01-08 13:59:10           2            1  \n",
       "2018-03-14 2018-01-08 13:59:10           2            1  "
      ]
     },
     "execution_count": 28,
     "metadata": {},
     "output_type": "execute_result"
    }
   ],
   "source": [
    "#take a look \n",
    "least_accessed.head()"
   ]
  },
  {
   "cell_type": "code",
   "execution_count": 29,
   "metadata": {},
   "outputs": [
    {
     "data": {
      "text/plain": [
       "972    31\n",
       "41     28\n",
       "24     26\n",
       "49     25\n",
       "64     25\n",
       "976    25\n",
       "772    20\n",
       "961    18\n",
       "963    17\n",
       "487    17\n",
       "889    16\n",
       "968    16\n",
       "572    12\n",
       "388     8\n",
       "812     7\n",
       "956     5\n",
       "278     4\n",
       "832     3\n",
       "679     3\n",
       "879     1\n",
       "Name: user_id, dtype: int64"
      ]
     },
     "execution_count": 29,
     "metadata": {},
     "output_type": "execute_result"
    }
   ],
   "source": [
    "#these are the 20 users who accessed the curriculum the least\n",
    "least_accessed['user_id'].value_counts().tail(20)"
   ]
  },
  {
   "cell_type": "markdown",
   "metadata": {},
   "source": [
    "#### Break Down the Bottom 5 Users"
   ]
  },
  {
   "cell_type": "code",
   "execution_count": 30,
   "metadata": {},
   "outputs": [
    {
     "data": {
      "text/html": [
       "<div>\n",
       "<style scoped>\n",
       "    .dataframe tbody tr th:only-of-type {\n",
       "        vertical-align: middle;\n",
       "    }\n",
       "\n",
       "    .dataframe tbody tr th {\n",
       "        vertical-align: top;\n",
       "    }\n",
       "\n",
       "    .dataframe thead th {\n",
       "        text-align: right;\n",
       "    }\n",
       "</style>\n",
       "<table border=\"1\" class=\"dataframe\">\n",
       "  <thead>\n",
       "    <tr style=\"text-align: right;\">\n",
       "      <th></th>\n",
       "      <th>path</th>\n",
       "      <th>user_id</th>\n",
       "      <th>cohort_id</th>\n",
       "      <th>ip</th>\n",
       "      <th>name</th>\n",
       "      <th>start_date</th>\n",
       "      <th>end_date</th>\n",
       "      <th>created_at</th>\n",
       "      <th>updated_at</th>\n",
       "      <th>program_id</th>\n",
       "      <th>user_access</th>\n",
       "    </tr>\n",
       "    <tr>\n",
       "      <th>date</th>\n",
       "      <th></th>\n",
       "      <th></th>\n",
       "      <th></th>\n",
       "      <th></th>\n",
       "      <th></th>\n",
       "      <th></th>\n",
       "      <th></th>\n",
       "      <th></th>\n",
       "      <th></th>\n",
       "      <th></th>\n",
       "      <th></th>\n",
       "    </tr>\n",
       "  </thead>\n",
       "  <tbody>\n",
       "    <tr>\n",
       "      <th>2021-01-26</th>\n",
       "      <td>/</td>\n",
       "      <td>879</td>\n",
       "      <td>135</td>\n",
       "      <td>136.50.50.187</td>\n",
       "      <td>Marco</td>\n",
       "      <td>2021-01-25</td>\n",
       "      <td>2021-07-19</td>\n",
       "      <td>2021-01-20 21:31:11</td>\n",
       "      <td>2021-01-20 21:31:11</td>\n",
       "      <td>2</td>\n",
       "      <td>1</td>\n",
       "    </tr>\n",
       "  </tbody>\n",
       "</table>\n",
       "</div>"
      ],
      "text/plain": [
       "           path  user_id  cohort_id             ip   name start_date  \\\n",
       "date                                                                   \n",
       "2021-01-26    /      879        135  136.50.50.187  Marco 2021-01-25   \n",
       "\n",
       "             end_date          created_at          updated_at  program_id  \\\n",
       "date                                                                        \n",
       "2021-01-26 2021-07-19 2021-01-20 21:31:11 2021-01-20 21:31:11           2   \n",
       "\n",
       "            user_access  \n",
       "date                     \n",
       "2021-01-26            1  "
      ]
     },
     "execution_count": 30,
     "metadata": {},
     "output_type": "execute_result"
    }
   ],
   "source": [
    "#user_id: 879\n",
    "least_accessed.loc[least_accessed['user_id']== 879]"
   ]
  },
  {
   "cell_type": "markdown",
   "metadata": {},
   "source": [
    "#### Takeaway:\n",
    "- user 879:\n",
    "    - accessed the curriculum only once\n",
    "    - was in program 2, cohort 135\n",
    "    - never accessed curriculum after graduation date\n",
    "        - likely did not graduate (created and updated same day)"
   ]
  },
  {
   "cell_type": "markdown",
   "metadata": {},
   "source": [
    "___________________________________________________________________"
   ]
  },
  {
   "cell_type": "code",
   "execution_count": 31,
   "metadata": {},
   "outputs": [
    {
     "data": {
      "text/html": [
       "<div>\n",
       "<style scoped>\n",
       "    .dataframe tbody tr th:only-of-type {\n",
       "        vertical-align: middle;\n",
       "    }\n",
       "\n",
       "    .dataframe tbody tr th {\n",
       "        vertical-align: top;\n",
       "    }\n",
       "\n",
       "    .dataframe thead th {\n",
       "        text-align: right;\n",
       "    }\n",
       "</style>\n",
       "<table border=\"1\" class=\"dataframe\">\n",
       "  <thead>\n",
       "    <tr style=\"text-align: right;\">\n",
       "      <th></th>\n",
       "      <th>path</th>\n",
       "      <th>user_id</th>\n",
       "      <th>cohort_id</th>\n",
       "      <th>ip</th>\n",
       "      <th>name</th>\n",
       "      <th>start_date</th>\n",
       "      <th>end_date</th>\n",
       "      <th>created_at</th>\n",
       "      <th>updated_at</th>\n",
       "      <th>program_id</th>\n",
       "      <th>user_access</th>\n",
       "    </tr>\n",
       "    <tr>\n",
       "      <th>date</th>\n",
       "      <th></th>\n",
       "      <th></th>\n",
       "      <th></th>\n",
       "      <th></th>\n",
       "      <th></th>\n",
       "      <th></th>\n",
       "      <th></th>\n",
       "      <th></th>\n",
       "      <th></th>\n",
       "      <th></th>\n",
       "      <th></th>\n",
       "    </tr>\n",
       "  </thead>\n",
       "  <tbody>\n",
       "    <tr>\n",
       "      <th>2020-07-14</th>\n",
       "      <td>1-fundamentals/1.1-intro-to-data-science</td>\n",
       "      <td>679</td>\n",
       "      <td>59</td>\n",
       "      <td>24.28.146.155</td>\n",
       "      <td>Darden</td>\n",
       "      <td>2020-07-13</td>\n",
       "      <td>2021-01-12</td>\n",
       "      <td>2020-07-13 18:32:19</td>\n",
       "      <td>2020-07-13 18:32:19</td>\n",
       "      <td>3</td>\n",
       "      <td>1</td>\n",
       "    </tr>\n",
       "    <tr>\n",
       "      <th>2020-07-14</th>\n",
       "      <td>1-fundamentals/modern-data-scientist.jpg</td>\n",
       "      <td>679</td>\n",
       "      <td>59</td>\n",
       "      <td>24.28.146.155</td>\n",
       "      <td>Darden</td>\n",
       "      <td>2020-07-13</td>\n",
       "      <td>2021-01-12</td>\n",
       "      <td>2020-07-13 18:32:19</td>\n",
       "      <td>2020-07-13 18:32:19</td>\n",
       "      <td>3</td>\n",
       "      <td>1</td>\n",
       "    </tr>\n",
       "    <tr>\n",
       "      <th>2020-07-14</th>\n",
       "      <td>1-fundamentals/AI-ML-DL-timeline.jpg</td>\n",
       "      <td>679</td>\n",
       "      <td>59</td>\n",
       "      <td>24.28.146.155</td>\n",
       "      <td>Darden</td>\n",
       "      <td>2020-07-13</td>\n",
       "      <td>2021-01-12</td>\n",
       "      <td>2020-07-13 18:32:19</td>\n",
       "      <td>2020-07-13 18:32:19</td>\n",
       "      <td>3</td>\n",
       "      <td>1</td>\n",
       "    </tr>\n",
       "  </tbody>\n",
       "</table>\n",
       "</div>"
      ],
      "text/plain": [
       "                                                path  user_id  cohort_id  \\\n",
       "date                                                                       \n",
       "2020-07-14  1-fundamentals/1.1-intro-to-data-science      679         59   \n",
       "2020-07-14  1-fundamentals/modern-data-scientist.jpg      679         59   \n",
       "2020-07-14      1-fundamentals/AI-ML-DL-timeline.jpg      679         59   \n",
       "\n",
       "                       ip    name start_date   end_date          created_at  \\\n",
       "date                                                                          \n",
       "2020-07-14  24.28.146.155  Darden 2020-07-13 2021-01-12 2020-07-13 18:32:19   \n",
       "2020-07-14  24.28.146.155  Darden 2020-07-13 2021-01-12 2020-07-13 18:32:19   \n",
       "2020-07-14  24.28.146.155  Darden 2020-07-13 2021-01-12 2020-07-13 18:32:19   \n",
       "\n",
       "                    updated_at  program_id  user_access  \n",
       "date                                                     \n",
       "2020-07-14 2020-07-13 18:32:19           3            1  \n",
       "2020-07-14 2020-07-13 18:32:19           3            1  \n",
       "2020-07-14 2020-07-13 18:32:19           3            1  "
      ]
     },
     "execution_count": 31,
     "metadata": {},
     "output_type": "execute_result"
    }
   ],
   "source": [
    "#user_id: 679\n",
    "least_accessed.loc[least_accessed['user_id']== 679]"
   ]
  },
  {
   "cell_type": "markdown",
   "metadata": {},
   "source": [
    "#### Takeaway:\n",
    "- user 679:\n",
    "    - accessed the curriculum three times\n",
    "    - was in program 3, cohort 59\n",
    "    - never accessed curriculum after graduation date\n",
    "        - likely did not graduate (created and updated same day)"
   ]
  },
  {
   "cell_type": "markdown",
   "metadata": {},
   "source": [
    "________________________________"
   ]
  },
  {
   "cell_type": "code",
   "execution_count": 32,
   "metadata": {},
   "outputs": [
    {
     "data": {
      "text/html": [
       "<div>\n",
       "<style scoped>\n",
       "    .dataframe tbody tr th:only-of-type {\n",
       "        vertical-align: middle;\n",
       "    }\n",
       "\n",
       "    .dataframe tbody tr th {\n",
       "        vertical-align: top;\n",
       "    }\n",
       "\n",
       "    .dataframe thead th {\n",
       "        text-align: right;\n",
       "    }\n",
       "</style>\n",
       "<table border=\"1\" class=\"dataframe\">\n",
       "  <thead>\n",
       "    <tr style=\"text-align: right;\">\n",
       "      <th></th>\n",
       "      <th>path</th>\n",
       "      <th>user_id</th>\n",
       "      <th>cohort_id</th>\n",
       "      <th>ip</th>\n",
       "      <th>name</th>\n",
       "      <th>start_date</th>\n",
       "      <th>end_date</th>\n",
       "      <th>created_at</th>\n",
       "      <th>updated_at</th>\n",
       "      <th>program_id</th>\n",
       "      <th>user_access</th>\n",
       "    </tr>\n",
       "    <tr>\n",
       "      <th>date</th>\n",
       "      <th></th>\n",
       "      <th></th>\n",
       "      <th></th>\n",
       "      <th></th>\n",
       "      <th></th>\n",
       "      <th></th>\n",
       "      <th></th>\n",
       "      <th></th>\n",
       "      <th></th>\n",
       "      <th></th>\n",
       "      <th></th>\n",
       "    </tr>\n",
       "  </thead>\n",
       "  <tbody>\n",
       "    <tr>\n",
       "      <th>2020-12-07</th>\n",
       "      <td>/</td>\n",
       "      <td>832</td>\n",
       "      <td>62</td>\n",
       "      <td>69.154.52.98</td>\n",
       "      <td>Jupiter</td>\n",
       "      <td>2020-09-21</td>\n",
       "      <td>2021-03-30</td>\n",
       "      <td>2020-09-21 18:06:27</td>\n",
       "      <td>2020-09-21 18:06:27</td>\n",
       "      <td>2</td>\n",
       "      <td>1</td>\n",
       "    </tr>\n",
       "    <tr>\n",
       "      <th>2020-12-07</th>\n",
       "      <td>javascript-i</td>\n",
       "      <td>832</td>\n",
       "      <td>62</td>\n",
       "      <td>69.154.52.98</td>\n",
       "      <td>Jupiter</td>\n",
       "      <td>2020-09-21</td>\n",
       "      <td>2021-03-30</td>\n",
       "      <td>2020-09-21 18:06:27</td>\n",
       "      <td>2020-09-21 18:06:27</td>\n",
       "      <td>2</td>\n",
       "      <td>1</td>\n",
       "    </tr>\n",
       "    <tr>\n",
       "      <th>2020-12-07</th>\n",
       "      <td>html-css</td>\n",
       "      <td>832</td>\n",
       "      <td>62</td>\n",
       "      <td>69.154.52.98</td>\n",
       "      <td>Jupiter</td>\n",
       "      <td>2020-09-21</td>\n",
       "      <td>2021-03-30</td>\n",
       "      <td>2020-09-21 18:06:27</td>\n",
       "      <td>2020-09-21 18:06:27</td>\n",
       "      <td>2</td>\n",
       "      <td>1</td>\n",
       "    </tr>\n",
       "  </tbody>\n",
       "</table>\n",
       "</div>"
      ],
      "text/plain": [
       "                    path  user_id  cohort_id            ip     name  \\\n",
       "date                                                                  \n",
       "2020-12-07             /      832         62  69.154.52.98  Jupiter   \n",
       "2020-12-07  javascript-i      832         62  69.154.52.98  Jupiter   \n",
       "2020-12-07      html-css      832         62  69.154.52.98  Jupiter   \n",
       "\n",
       "           start_date   end_date          created_at          updated_at  \\\n",
       "date                                                                       \n",
       "2020-12-07 2020-09-21 2021-03-30 2020-09-21 18:06:27 2020-09-21 18:06:27   \n",
       "2020-12-07 2020-09-21 2021-03-30 2020-09-21 18:06:27 2020-09-21 18:06:27   \n",
       "2020-12-07 2020-09-21 2021-03-30 2020-09-21 18:06:27 2020-09-21 18:06:27   \n",
       "\n",
       "            program_id  user_access  \n",
       "date                                 \n",
       "2020-12-07           2            1  \n",
       "2020-12-07           2            1  \n",
       "2020-12-07           2            1  "
      ]
     },
     "execution_count": 32,
     "metadata": {},
     "output_type": "execute_result"
    }
   ],
   "source": [
    "#user_id: 832\n",
    "least_accessed.loc[least_accessed['user_id']== 832]"
   ]
  },
  {
   "cell_type": "markdown",
   "metadata": {},
   "source": [
    "#### Takeaway:\n",
    "- user 832:\n",
    "    - accessed the curriculum three times\n",
    "    - was in program 2, cohort 62\n",
    "    - never accessed curriculum after graduation date\n",
    "        - likely did not graduate (created and updated same day)"
   ]
  },
  {
   "cell_type": "markdown",
   "metadata": {},
   "source": [
    "_________________________________"
   ]
  },
  {
   "cell_type": "code",
   "execution_count": 33,
   "metadata": {},
   "outputs": [
    {
     "data": {
      "text/html": [
       "<div>\n",
       "<style scoped>\n",
       "    .dataframe tbody tr th:only-of-type {\n",
       "        vertical-align: middle;\n",
       "    }\n",
       "\n",
       "    .dataframe tbody tr th {\n",
       "        vertical-align: top;\n",
       "    }\n",
       "\n",
       "    .dataframe thead th {\n",
       "        text-align: right;\n",
       "    }\n",
       "</style>\n",
       "<table border=\"1\" class=\"dataframe\">\n",
       "  <thead>\n",
       "    <tr style=\"text-align: right;\">\n",
       "      <th></th>\n",
       "      <th>path</th>\n",
       "      <th>user_id</th>\n",
       "      <th>cohort_id</th>\n",
       "      <th>ip</th>\n",
       "      <th>name</th>\n",
       "      <th>start_date</th>\n",
       "      <th>end_date</th>\n",
       "      <th>created_at</th>\n",
       "      <th>updated_at</th>\n",
       "      <th>program_id</th>\n",
       "      <th>user_access</th>\n",
       "    </tr>\n",
       "    <tr>\n",
       "      <th>date</th>\n",
       "      <th></th>\n",
       "      <th></th>\n",
       "      <th></th>\n",
       "      <th></th>\n",
       "      <th></th>\n",
       "      <th></th>\n",
       "      <th></th>\n",
       "      <th></th>\n",
       "      <th></th>\n",
       "      <th></th>\n",
       "      <th></th>\n",
       "    </tr>\n",
       "  </thead>\n",
       "  <tbody>\n",
       "    <tr>\n",
       "      <th>2018-09-27</th>\n",
       "      <td>java-ii/arrays</td>\n",
       "      <td>278</td>\n",
       "      <td>24</td>\n",
       "      <td>107.77.217.9</td>\n",
       "      <td>Voyageurs</td>\n",
       "      <td>2018-05-29</td>\n",
       "      <td>2018-10-11</td>\n",
       "      <td>2018-05-25 22:25:57</td>\n",
       "      <td>2018-05-25 22:25:57</td>\n",
       "      <td>2</td>\n",
       "      <td>1</td>\n",
       "    </tr>\n",
       "    <tr>\n",
       "      <th>2018-09-27</th>\n",
       "      <td>/</td>\n",
       "      <td>278</td>\n",
       "      <td>24</td>\n",
       "      <td>97.105.19.58</td>\n",
       "      <td>Voyageurs</td>\n",
       "      <td>2018-05-29</td>\n",
       "      <td>2018-10-11</td>\n",
       "      <td>2018-05-25 22:25:57</td>\n",
       "      <td>2018-05-25 22:25:57</td>\n",
       "      <td>2</td>\n",
       "      <td>1</td>\n",
       "    </tr>\n",
       "    <tr>\n",
       "      <th>2018-09-27</th>\n",
       "      <td>java-ii/arrays</td>\n",
       "      <td>278</td>\n",
       "      <td>24</td>\n",
       "      <td>107.77.217.9</td>\n",
       "      <td>Voyageurs</td>\n",
       "      <td>2018-05-29</td>\n",
       "      <td>2018-10-11</td>\n",
       "      <td>2018-05-25 22:25:57</td>\n",
       "      <td>2018-05-25 22:25:57</td>\n",
       "      <td>2</td>\n",
       "      <td>1</td>\n",
       "    </tr>\n",
       "    <tr>\n",
       "      <th>2018-09-27</th>\n",
       "      <td>java-ii/collections</td>\n",
       "      <td>278</td>\n",
       "      <td>24</td>\n",
       "      <td>107.77.217.9</td>\n",
       "      <td>Voyageurs</td>\n",
       "      <td>2018-05-29</td>\n",
       "      <td>2018-10-11</td>\n",
       "      <td>2018-05-25 22:25:57</td>\n",
       "      <td>2018-05-25 22:25:57</td>\n",
       "      <td>2</td>\n",
       "      <td>1</td>\n",
       "    </tr>\n",
       "  </tbody>\n",
       "</table>\n",
       "</div>"
      ],
      "text/plain": [
       "                           path  user_id  cohort_id            ip       name  \\\n",
       "date                                                                           \n",
       "2018-09-27       java-ii/arrays      278         24  107.77.217.9  Voyageurs   \n",
       "2018-09-27                    /      278         24  97.105.19.58  Voyageurs   \n",
       "2018-09-27       java-ii/arrays      278         24  107.77.217.9  Voyageurs   \n",
       "2018-09-27  java-ii/collections      278         24  107.77.217.9  Voyageurs   \n",
       "\n",
       "           start_date   end_date          created_at          updated_at  \\\n",
       "date                                                                       \n",
       "2018-09-27 2018-05-29 2018-10-11 2018-05-25 22:25:57 2018-05-25 22:25:57   \n",
       "2018-09-27 2018-05-29 2018-10-11 2018-05-25 22:25:57 2018-05-25 22:25:57   \n",
       "2018-09-27 2018-05-29 2018-10-11 2018-05-25 22:25:57 2018-05-25 22:25:57   \n",
       "2018-09-27 2018-05-29 2018-10-11 2018-05-25 22:25:57 2018-05-25 22:25:57   \n",
       "\n",
       "            program_id  user_access  \n",
       "date                                 \n",
       "2018-09-27           2            1  \n",
       "2018-09-27           2            1  \n",
       "2018-09-27           2            1  \n",
       "2018-09-27           2            1  "
      ]
     },
     "execution_count": 33,
     "metadata": {},
     "output_type": "execute_result"
    }
   ],
   "source": [
    "#user_id: 278\n",
    "least_accessed.loc[least_accessed['user_id']== 278]"
   ]
  },
  {
   "cell_type": "markdown",
   "metadata": {},
   "source": [
    "#### Takeaway:\n",
    "- user 278:\n",
    "    - accessed the curriculum four times\n",
    "    - was in program 2, cohort 24\n",
    "    - never accessed curriculum after graduation date\n",
    "        - likely did not graduate (created and updated same day)"
   ]
  },
  {
   "cell_type": "markdown",
   "metadata": {},
   "source": [
    "_____________________________________"
   ]
  },
  {
   "cell_type": "code",
   "execution_count": 34,
   "metadata": {},
   "outputs": [
    {
     "data": {
      "text/html": [
       "<div>\n",
       "<style scoped>\n",
       "    .dataframe tbody tr th:only-of-type {\n",
       "        vertical-align: middle;\n",
       "    }\n",
       "\n",
       "    .dataframe tbody tr th {\n",
       "        vertical-align: top;\n",
       "    }\n",
       "\n",
       "    .dataframe thead th {\n",
       "        text-align: right;\n",
       "    }\n",
       "</style>\n",
       "<table border=\"1\" class=\"dataframe\">\n",
       "  <thead>\n",
       "    <tr style=\"text-align: right;\">\n",
       "      <th></th>\n",
       "      <th>path</th>\n",
       "      <th>user_id</th>\n",
       "      <th>cohort_id</th>\n",
       "      <th>ip</th>\n",
       "      <th>name</th>\n",
       "      <th>start_date</th>\n",
       "      <th>end_date</th>\n",
       "      <th>created_at</th>\n",
       "      <th>updated_at</th>\n",
       "      <th>program_id</th>\n",
       "      <th>user_access</th>\n",
       "    </tr>\n",
       "    <tr>\n",
       "      <th>date</th>\n",
       "      <th></th>\n",
       "      <th></th>\n",
       "      <th></th>\n",
       "      <th></th>\n",
       "      <th></th>\n",
       "      <th></th>\n",
       "      <th></th>\n",
       "      <th></th>\n",
       "      <th></th>\n",
       "      <th></th>\n",
       "      <th></th>\n",
       "    </tr>\n",
       "  </thead>\n",
       "  <tbody>\n",
       "    <tr>\n",
       "      <th>2021-04-15</th>\n",
       "      <td>javascript-i/introduction/operators</td>\n",
       "      <td>956</td>\n",
       "      <td>139</td>\n",
       "      <td>162.200.114.251</td>\n",
       "      <td>Oberon</td>\n",
       "      <td>2021-04-12</td>\n",
       "      <td>2021-10-01</td>\n",
       "      <td>2021-04-12 18:07:21</td>\n",
       "      <td>2021-04-12 18:07:21</td>\n",
       "      <td>2</td>\n",
       "      <td>1</td>\n",
       "    </tr>\n",
       "    <tr>\n",
       "      <th>2021-04-15</th>\n",
       "      <td>javascript-i/introduction/primitive-types</td>\n",
       "      <td>956</td>\n",
       "      <td>139</td>\n",
       "      <td>162.200.114.251</td>\n",
       "      <td>Oberon</td>\n",
       "      <td>2021-04-12</td>\n",
       "      <td>2021-10-01</td>\n",
       "      <td>2021-04-12 18:07:21</td>\n",
       "      <td>2021-04-12 18:07:21</td>\n",
       "      <td>2</td>\n",
       "      <td>1</td>\n",
       "    </tr>\n",
       "    <tr>\n",
       "      <th>2021-04-15</th>\n",
       "      <td>toc</td>\n",
       "      <td>956</td>\n",
       "      <td>139</td>\n",
       "      <td>162.200.114.251</td>\n",
       "      <td>Oberon</td>\n",
       "      <td>2021-04-12</td>\n",
       "      <td>2021-10-01</td>\n",
       "      <td>2021-04-12 18:07:21</td>\n",
       "      <td>2021-04-12 18:07:21</td>\n",
       "      <td>2</td>\n",
       "      <td>1</td>\n",
       "    </tr>\n",
       "    <tr>\n",
       "      <th>2021-04-15</th>\n",
       "      <td>/</td>\n",
       "      <td>956</td>\n",
       "      <td>139</td>\n",
       "      <td>162.200.114.251</td>\n",
       "      <td>Oberon</td>\n",
       "      <td>2021-04-12</td>\n",
       "      <td>2021-10-01</td>\n",
       "      <td>2021-04-12 18:07:21</td>\n",
       "      <td>2021-04-12 18:07:21</td>\n",
       "      <td>2</td>\n",
       "      <td>1</td>\n",
       "    </tr>\n",
       "    <tr>\n",
       "      <th>2021-04-15</th>\n",
       "      <td>javascript-i/introduction/operators</td>\n",
       "      <td>956</td>\n",
       "      <td>139</td>\n",
       "      <td>162.200.114.251</td>\n",
       "      <td>Oberon</td>\n",
       "      <td>2021-04-12</td>\n",
       "      <td>2021-10-01</td>\n",
       "      <td>2021-04-12 18:07:21</td>\n",
       "      <td>2021-04-12 18:07:21</td>\n",
       "      <td>2</td>\n",
       "      <td>1</td>\n",
       "    </tr>\n",
       "  </tbody>\n",
       "</table>\n",
       "</div>"
      ],
      "text/plain": [
       "                                                 path  user_id  cohort_id  \\\n",
       "date                                                                        \n",
       "2021-04-15        javascript-i/introduction/operators      956        139   \n",
       "2021-04-15  javascript-i/introduction/primitive-types      956        139   \n",
       "2021-04-15                                        toc      956        139   \n",
       "2021-04-15                                          /      956        139   \n",
       "2021-04-15        javascript-i/introduction/operators      956        139   \n",
       "\n",
       "                         ip    name start_date   end_date          created_at  \\\n",
       "date                                                                            \n",
       "2021-04-15  162.200.114.251  Oberon 2021-04-12 2021-10-01 2021-04-12 18:07:21   \n",
       "2021-04-15  162.200.114.251  Oberon 2021-04-12 2021-10-01 2021-04-12 18:07:21   \n",
       "2021-04-15  162.200.114.251  Oberon 2021-04-12 2021-10-01 2021-04-12 18:07:21   \n",
       "2021-04-15  162.200.114.251  Oberon 2021-04-12 2021-10-01 2021-04-12 18:07:21   \n",
       "2021-04-15  162.200.114.251  Oberon 2021-04-12 2021-10-01 2021-04-12 18:07:21   \n",
       "\n",
       "                    updated_at  program_id  user_access  \n",
       "date                                                     \n",
       "2021-04-15 2021-04-12 18:07:21           2            1  \n",
       "2021-04-15 2021-04-12 18:07:21           2            1  \n",
       "2021-04-15 2021-04-12 18:07:21           2            1  \n",
       "2021-04-15 2021-04-12 18:07:21           2            1  \n",
       "2021-04-15 2021-04-12 18:07:21           2            1  "
      ]
     },
     "execution_count": 34,
     "metadata": {},
     "output_type": "execute_result"
    }
   ],
   "source": [
    "#user_id: 956\n",
    "least_accessed.loc[least_accessed['user_id']== 956]"
   ]
  },
  {
   "cell_type": "markdown",
   "metadata": {},
   "source": [
    "#### Takeaway:\n",
    "- user 956:\n",
    "    - accessed the curriculum three times\n",
    "    - was in program 2, cohort 139\n",
    "    - never accessed curriculum after graduation date\n",
    "        - likely did not graduate (created and updated same day)"
   ]
  },
  {
   "cell_type": "markdown",
   "metadata": {},
   "source": [
    "_______________________________"
   ]
  },
  {
   "cell_type": "markdown",
   "metadata": {},
   "source": [
    "### Takeaways:\n",
    "\n",
    "- Student who accessed curriculum  the least:\n",
    "\n",
    "| User_id      |   Times Accessed    |   Cohort      |  Program |\n",
    "|--------------|---------------------|---------------|----------|\n",
    "| 388          | 8                   |  31           | 2        | \n",
    "| 812          | 7                   |  58           | 2        | \n",
    "| 956          | 5                   |  139          | 2        | \n",
    "| 278          | 4                   |  24           | 2        | \n",
    "| 832          | 3                   |  62           | 2        | \n",
    "| 679          | 3                   |  59           | 3        | \n",
    "| 879          | 1                   |  135          | 2        | \n",
    "\n",
    "  ***These are the only users who accessed the curriculum less than 10 times***\n",
    "    \n",
    "- ~ 86% were from Program 2"
   ]
  },
  {
   "cell_type": "markdown",
   "metadata": {},
   "source": [
    "<hr style=\"border:2px solid black\"> </hr>"
   ]
  },
  {
   "cell_type": "markdown",
   "metadata": {},
   "source": [
    "### #3. Is there any suspicious activity, such as users/machines/etc accessing the curriculum who shouldn’t be? Does it appear that any web-scraping is happening? Are there any suspicious IP addresses?"
   ]
  },
  {
   "cell_type": "code",
   "execution_count": null,
   "metadata": {
    "scrolled": true
   },
   "outputs": [],
   "source": [
    "prep(df_txt, 40).head()"
   ]
  },
  {
   "cell_type": "code",
   "execution_count": null,
   "metadata": {},
   "outputs": [],
   "source": [
    "# Test the anomoly function on single user\n",
    "user = 15\n",
    "span = 30\n",
    "weight = 3\n",
    "\n",
    "anomalies = pd.DataFrame()\n",
    "user_df = find_anomalies(df_txt, user, span, weight)\n",
    "anomalies = pd.concat([anomalies, user_df], axis=0)"
   ]
  },
  {
   "cell_type": "code",
   "execution_count": null,
   "metadata": {},
   "outputs": [],
   "source": [
    "anomalies.head()"
   ]
  },
  {
   "cell_type": "code",
   "execution_count": null,
   "metadata": {},
   "outputs": [],
   "source": [
    "# loop the anomalies function through all user ids and identify potential anomalies\n",
    "span = 30\n",
    "weight = 3.5\n",
    "\n",
    "anomalies = pd.DataFrame()\n",
    "for u in list(df_txt.user_id.unique()):\n",
    "    user_df = find_anomalies(df_txt, u, span, weight)\n",
    "    anomalies = pd.concat([anomalies, user_df], axis=0)"
   ]
  },
  {
   "cell_type": "code",
   "execution_count": null,
   "metadata": {},
   "outputs": [],
   "source": [
    "# set list max option at unlimited and count the count of pages and the frequency \n",
    "pd.set_option('display.max_rows', None)\n",
    "anomalies.pages.value_counts(sort=False).tail(10)"
   ]
  },
  {
   "cell_type": "code",
   "execution_count": null,
   "metadata": {},
   "outputs": [],
   "source": [
    "# Identify the user id associated with 3rd highest count\n",
    "anomalies[anomalies.pages==198]"
   ]
  },
  {
   "cell_type": "code",
   "execution_count": null,
   "metadata": {},
   "outputs": [],
   "source": [
    "# Utilize the user id to identify other potential associated anomalous activity\n",
    "anomalies[anomalies.user_id==138]"
   ]
  },
  {
   "cell_type": "code",
   "execution_count": null,
   "metadata": {},
   "outputs": [],
   "source": [
    "# Identify the user id associated with the 2nd highest count\n",
    "anomalies[anomalies.pages==272]"
   ]
  },
  {
   "cell_type": "code",
   "execution_count": null,
   "metadata": {},
   "outputs": [],
   "source": [
    "# Identify the user id associated with the highest count\n",
    "anomalies[anomalies.pages==343]"
   ]
  },
  {
   "cell_type": "code",
   "execution_count": null,
   "metadata": {},
   "outputs": [],
   "source": [
    "# Utilize the user id to identify other potential associated anomalous activity\n",
    "anomalies[anomalies.user_id==804]"
   ]
  },
  {
   "cell_type": "markdown",
   "metadata": {},
   "source": [
    "### Takeaways:\n",
    "- In the case of our largest potential anomaly (343 count, user_id 804), it appears as though the occurence happens just after the cohort ended which was common when counts exceeded our upper Bollinger Band\n",
    "    - The IP address used was in regular use beforehand. No timestamps available to evaluate\n",
    "\n",
    "    <br>\n",
    "    \n",
    "- In the case of our 2nd largest potential anamoly (272 count, user_id 341), the information strongly corroborates anomalous behavior\n",
    "    - over 5 unique IP addresses can be identified with the user ID\n",
    "        - 91.105.19.58 is very similar to other user ids and suggests this may have been a centralized location for all cohort members\n",
    "        - 173.174.243.231 appears to have been used regularly throughout the course dates suggesting a personal IP address\n",
    "        - However, 204.44.122.76 ONLY appears on the date during which the 272 page count occurs. 173.174.243.231 also is active on this date and both appear to be iterating through the curriculum pages.\n",
    "            - Timestamps for both IPs a definitive\n",
    "                - 173... iterates over several minutes\n",
    "                - 204... multiple equivalent timestamps seperated by milliseconds suggesting the download automated/algo and not manual effort\n",
    "        - 172.124.40.146 appears for the first time on 2/10/20 and visits an anomalous amount of pages (109)\n",
    "            - this occurs several months after the cohort ends\n",
    "            - wasn't used before and considering no activity leading up to this date, it would appear as though the user credentials were utilized by someone other than the previous student to download course curriculum\n",
    "                - again, the timestamps suggest it was an automated/algo and not manual effort"
   ]
  },
  {
   "cell_type": "markdown",
   "metadata": {},
   "source": [
    "<hr style=\"border:2px solid black\"> </hr>"
   ]
  },
  {
   "cell_type": "markdown",
   "metadata": {},
   "source": [
    "### #4. What topics are grads continuing to reference after graduation and into their jobs (for each program)?"
   ]
  },
  {
   "cell_type": "code",
   "execution_count": null,
   "metadata": {},
   "outputs": [],
   "source": [
    "df.loc[(df['end_date']) < (df['created_at'])]\n",
    "\n",
    "#95,659 out of 900,223 accessed curriculum after graduation\n",
    "#10.63%"
   ]
  },
  {
   "cell_type": "code",
   "execution_count": null,
   "metadata": {},
   "outputs": [],
   "source": [
    "#sort by program\n",
    "df.groupby('program_id')"
   ]
  },
  {
   "cell_type": "code",
   "execution_count": null,
   "metadata": {},
   "outputs": [],
   "source": [
    "#see the different program options\n",
    "df['program_id'].unique()"
   ]
  },
  {
   "cell_type": "code",
   "execution_count": null,
   "metadata": {
    "scrolled": false
   },
   "outputs": [],
   "source": [
    "#see most accessed by program\n",
    "path_by_prog = df.groupby(['program_id']).path.value_counts(ascending=True)\n",
    "path_by_progh.head()"
   ]
  },
  {
   "cell_type": "code",
   "execution_count": null,
   "metadata": {},
   "outputs": [],
   "source": [
    "df[(df.end_date) < (df.created_at)][['program_id', 'path']].value_counts().sort_values().head()"
   ]
  },
  {
   "cell_type": "code",
   "execution_count": null,
   "metadata": {},
   "outputs": [],
   "source": [
    "#create column where date is after grad date\n",
    "df['post_grad_access'] = df.index > df.end_date"
   ]
  },
  {
   "cell_type": "code",
   "execution_count": null,
   "metadata": {},
   "outputs": [],
   "source": [
    "#turn that column into int\n",
    "df['post_grad_access'] = df['post_grad_access'].astype(int)"
   ]
  },
  {
   "cell_type": "code",
   "execution_count": null,
   "metadata": {},
   "outputs": [],
   "source": [
    "#only accepts True (1)\n",
    "post_grad = df.loc[df['post_grad_access'] == 1]"
   ]
  },
  {
   "cell_type": "code",
   "execution_count": null,
   "metadata": {},
   "outputs": [],
   "source": [
    "#take a look at post grads that accessed curriculum\n",
    "post_grad.head()"
   ]
  },
  {
   "cell_type": "code",
   "execution_count": null,
   "metadata": {},
   "outputs": [],
   "source": [
    "#as stated previously, program 4 is not of value (will not be used)\n",
    "program_list = [1,2,3]"
   ]
  },
  {
   "cell_type": "code",
   "execution_count": null,
   "metadata": {},
   "outputs": [],
   "source": [
    "#for loop that goes through all programs and gets 4 most accessed paths for post grads\n",
    "for prog in program_list:\n",
    "    program_df = pd.DataFrame(post_grad[post_grad.path != '/']).groupby('program_id')['path'].value_counts()\n",
    "    cep_df = program_df.loc[[prog]]\n",
    "    cep_df = cep_df.nlargest(4)\n",
    "    print(cep_df)\n",
    "    print('\\n')\n",
    "    print('----------------------')"
   ]
  },
  {
   "cell_type": "markdown",
   "metadata": {},
   "source": [
    "### Takeaways:\n",
    "**Most Accessed Curriculum Post-Grad**\n",
    "<br>\n",
    "\n",
    "- Program 1 (PHP):\n",
    "    - javascript-i\n",
    "    - html-ss\n",
    "    - spring\n",
    "\n",
    "- Program 2 (Java):\n",
    "    - javascript-i\n",
    "    - spring\n",
    "    - html-ss\n",
    "\n",
    "- Program 3 (Data Science):\n",
    "    - my_sql overview\n",
    "    - classification/overview\n",
    "    - classification/scale_features_or_not"
   ]
  },
  {
   "cell_type": "markdown",
   "metadata": {},
   "source": [
    "<hr style=\"border:2px solid black\"> </hr>"
   ]
  },
  {
   "cell_type": "markdown",
   "metadata": {},
   "source": [
    "### #5.Which lessons are least accessed?"
   ]
  },
  {
   "cell_type": "code",
   "execution_count": null,
   "metadata": {},
   "outputs": [],
   "source": [
    "#how many different paths are there\n",
    "df.path.nunique()"
   ]
  },
  {
   "cell_type": "code",
   "execution_count": null,
   "metadata": {},
   "outputs": [],
   "source": [
    "#correct labels on df to match values\n",
    "#shows how many times each path shows up\n",
    "df.path.value_counts(dropna=False).sort_values(ascending=True).reset_index().rename(columns ={'index': 'path', 'path': 'count'})"
   ]
  },
  {
   "cell_type": "code",
   "execution_count": null,
   "metadata": {},
   "outputs": [],
   "source": [
    "#create new df to get the counts of path in the dataset\n",
    "path_df = pd.DataFrame(df.path.value_counts(dropna=False)).reset_index().\\\n",
    "                rename(columns ={'index': 'path', 'path': 'count'})"
   ]
  },
  {
   "cell_type": "code",
   "execution_count": null,
   "metadata": {},
   "outputs": [],
   "source": [
    "#look at data\n",
    "path_df.head()"
   ]
  },
  {
   "cell_type": "code",
   "execution_count": null,
   "metadata": {},
   "outputs": [],
   "source": [
    "# calculate probabity for each path\n",
    "#ip_prob = count for each path / total count in the dataframe\n",
    "#each count divided by total\n",
    "\n",
    "#new variable that takes df and value counts/total count (proba)\n",
    "#rename columns\n",
    "path_df2 = pd.DataFrame((df.path.value_counts(dropna=False))/df.path.count()).reset_index().\\\n",
    "                rename(columns={'index': 'path', 'path': 'path_proba'})\n",
    "path_df2.head()"
   ]
  },
  {
   "cell_type": "code",
   "execution_count": null,
   "metadata": {},
   "outputs": [],
   "source": [
    "# merge the two data frames create above into a single one:\n",
    "#includes count and probability dfs\n",
    "path_df = path_df.merge(path_df2)\n",
    "path_df.head()"
   ]
  },
  {
   "cell_type": "code",
   "execution_count": null,
   "metadata": {},
   "outputs": [],
   "source": [
    "# look at rows where ip_proba is less than 0.01\n",
    "path_df[path_df.path_proba < 0.01]"
   ]
  },
  {
   "cell_type": "code",
   "execution_count": null,
   "metadata": {},
   "outputs": [],
   "source": [
    "#see how frequently each were accessed\n",
    "path_df.describe()"
   ]
  },
  {
   "cell_type": "code",
   "execution_count": null,
   "metadata": {},
   "outputs": [],
   "source": [
    "#shows the paths that have a path of greater than 12 (median count)\n",
    "#least 5 visited sites\n",
    "df.path.value_counts().reset_index(name='count').query('count > 12')['index'].tolist()[-6:]"
   ]
  },
  {
   "cell_type": "code",
   "execution_count": null,
   "metadata": {},
   "outputs": [],
   "source": [
    "viz_least_df = path_df.merge(path_df2).tail(10)"
   ]
  },
  {
   "cell_type": "code",
   "execution_count": null,
   "metadata": {},
   "outputs": [],
   "source": [
    "viz_least_df.head()"
   ]
  },
  {
   "cell_type": "code",
   "execution_count": null,
   "metadata": {},
   "outputs": [],
   "source": [
    "# plot the path for each \n",
    "\n",
    "#visualize the path and count of each login\n",
    "#exponential decay\n",
    "plt.figure(figsize=(12, 4))\n",
    "splot = sns.barplot(data=viz_least_df, x = 'path', y = 'count', ci = None)\n",
    "for p in splot.patches:\n",
    "    splot.annotate(format(p.get_height(), '.0f'), \n",
    "                   (p.get_x() + p.get_width() / 2., p.get_height()), \n",
    "                   ha = 'center', va = 'center', xytext = (0, 10), \n",
    "                   textcoords = 'offset points'\n",
    "                   )\n",
    "    plt.xticks(rotation='vertical')"
   ]
  },
  {
   "cell_type": "markdown",
   "metadata": {},
   "source": [
    "### Takeaways:\n",
    "- The least visited curriculum pages are:\n",
    "    - 5-stats/sampling\n",
    "    - 7-clustering/3-wrangle\n",
    "    - capstone-workbook\n",
    "    - professional-development/professionalism-101\n",
    "    - 12-distributed-ml/4-acquire\n",
    "    - 10_Appendix_EntityLabeling\n"
   ]
  }
 ],
 "metadata": {
  "kernelspec": {
   "display_name": "Python 3",
   "language": "python",
   "name": "python3"
  },
  "language_info": {
   "codemirror_mode": {
    "name": "ipython",
    "version": 3
   },
   "file_extension": ".py",
   "mimetype": "text/x-python",
   "name": "python",
   "nbconvert_exporter": "python",
   "pygments_lexer": "ipython3",
   "version": "3.8.5"
  }
 },
 "nbformat": 4,
 "nbformat_minor": 4
}
